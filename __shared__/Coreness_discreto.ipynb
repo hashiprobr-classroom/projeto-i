{
 "cells": [
  {
   "cell_type": "code",
   "execution_count": 1,
   "id": "3b58d0dc-cccb-481d-9dbc-c79b5b458881",
   "metadata": {
    "execution": {
     "iopub.execute_input": "2025-03-26T02:41:34.458244Z",
     "iopub.status.busy": "2025-03-26T02:41:34.458062Z",
     "iopub.status.idle": "2025-03-26T02:41:35.787290Z",
     "shell.execute_reply": "2025-03-26T02:41:35.786674Z",
     "shell.execute_reply.started": "2025-03-26T02:41:34.458230Z"
    }
   },
   "outputs": [
    {
     "data": {
      "text/html": [
       "\n",
       "    <script src=\"/static/.hidden/netpixi.min.js\"></script>\n"
      ],
      "text/plain": [
       "<IPython.core.display.HTML object>"
      ]
     },
     "metadata": {},
     "output_type": "display_data"
    }
   ],
   "source": [
    "import netpixi\n",
    "import graph_tool_extras as gte\n",
    "import cpnet"
   ]
  },
  {
   "cell_type": "code",
   "execution_count": 2,
   "id": "fe5a3192-405b-4d20-963c-08dc8467e437",
   "metadata": {
    "execution": {
     "iopub.execute_input": "2025-03-26T02:42:53.731659Z",
     "iopub.status.busy": "2025-03-26T02:42:53.730968Z",
     "iopub.status.idle": "2025-03-26T02:42:55.140263Z",
     "shell.execute_reply": "2025-03-26T02:42:55.139793Z",
     "shell.execute_reply.started": "2025-03-26T02:42:53.731641Z"
    }
   },
   "outputs": [],
   "source": [
    "g = gte.load('games.net.gz')"
   ]
  },
  {
   "cell_type": "code",
   "execution_count": 3,
   "id": "65007483-856e-4a7d-bb4f-93e552a24024",
   "metadata": {
    "execution": {
     "iopub.execute_input": "2025-03-26T02:43:17.739473Z",
     "iopub.status.busy": "2025-03-26T02:43:17.738828Z",
     "iopub.status.idle": "2025-03-26T02:43:43.913459Z",
     "shell.execute_reply": "2025-03-26T02:43:43.912894Z",
     "shell.execute_reply.started": "2025-03-26T02:43:17.739454Z"
    }
   },
   "outputs": [],
   "source": [
    "c, l = gte.coreness(g, cpnet.KM_ER)"
   ]
  },
  {
   "cell_type": "code",
   "execution_count": 4,
   "id": "8f0f2bd1-9c5e-4bc8-a279-a22ac99fe8b8",
   "metadata": {
    "execution": {
     "iopub.execute_input": "2025-03-26T02:44:59.733718Z",
     "iopub.status.busy": "2025-03-26T02:44:59.733131Z",
     "iopub.status.idle": "2025-03-26T02:44:59.771197Z",
     "shell.execute_reply": "2025-03-26T02:44:59.770726Z",
     "shell.execute_reply.started": "2025-03-26T02:44:59.733700Z"
    }
   },
   "outputs": [],
   "source": [
    "g.add_converted_vp('color', c, lambda coreness: 0x00ff00 if round(coreness) == 1 else 0xff0000)"
   ]
  },
  {
   "cell_type": "code",
   "execution_count": 5,
   "id": "793a40c8-d6fd-41ed-aec8-855b5aba9c45",
   "metadata": {
    "execution": {
     "iopub.execute_input": "2025-03-26T02:45:22.546588Z",
     "iopub.status.busy": "2025-03-26T02:45:22.545993Z",
     "iopub.status.idle": "2025-03-26T02:45:25.649489Z",
     "shell.execute_reply": "2025-03-26T02:45:25.648998Z",
     "shell.execute_reply.started": "2025-03-26T02:45:22.546567Z"
    }
   },
   "outputs": [],
   "source": [
    "gte.save(g, 'coreness_discreto.net.gz')"
   ]
  },
  {
   "cell_type": "code",
   "execution_count": 7,
   "id": "d2c0be7d-43d9-4578-8206-1aeb550f9215",
   "metadata": {
    "execution": {
     "iopub.execute_input": "2025-03-26T02:45:49.090606Z",
     "iopub.status.busy": "2025-03-26T02:45:49.089955Z",
     "iopub.status.idle": "2025-03-26T02:45:49.094485Z",
     "shell.execute_reply": "2025-03-26T02:45:49.094019Z",
     "shell.execute_reply.started": "2025-03-26T02:45:49.090588Z"
    }
   },
   "outputs": [
    {
     "data": {
      "text/html": [
       "\n",
       "        <div id=\"eemiJMJjFKhP9PzpYnvP7Q\"></div>\n",
       "        <script>netpixi.render('eemiJMJjFKhP9PzpYnvP7Q', '/static/__shared__/coreness_discreto.net.gz', 1.7777777777777777, true, false, false, true);</script>\n",
       "    "
      ],
      "text/plain": [
       "<IPython.core.display.HTML object>"
      ]
     },
     "metadata": {},
     "output_type": "display_data"
    }
   ],
   "source": [
    "netpixi.render('coreness_discreto.net.gz');"
   ]
  },
  {
   "cell_type": "code",
   "execution_count": null,
   "id": "4fe55a6c-19f1-405d-8733-0e4834af3bf7",
   "metadata": {},
   "outputs": [],
   "source": []
  }
 ],
 "metadata": {
  "kernelspec": {
   "display_name": "Python 3 (ipykernel)",
   "language": "python",
   "name": "python3"
  },
  "language_info": {
   "codemirror_mode": {
    "name": "ipython",
    "version": 3
   },
   "file_extension": ".py",
   "mimetype": "text/x-python",
   "name": "python",
   "nbconvert_exporter": "python",
   "pygments_lexer": "ipython3",
   "version": "3.13.1"
  }
 },
 "nbformat": 4,
 "nbformat_minor": 5
}
