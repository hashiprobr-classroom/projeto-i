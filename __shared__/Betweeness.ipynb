{
 "cells": [
  {
   "cell_type": "code",
   "execution_count": 17,
   "id": "558481ed-8a2f-4608-bb62-f50afc8a1e92",
   "metadata": {
    "execution": {
     "iopub.execute_input": "2025-03-26T01:49:46.424187Z",
     "iopub.status.busy": "2025-03-26T01:49:46.423795Z",
     "iopub.status.idle": "2025-03-26T01:49:46.426446Z",
     "shell.execute_reply": "2025-03-26T01:49:46.425893Z",
     "shell.execute_reply.started": "2025-03-26T01:49:46.424171Z"
    }
   },
   "outputs": [],
   "source": [
    "import netpixi\n",
    "import graph_tool_extras as gte"
   ]
  },
  {
   "cell_type": "code",
   "execution_count": 18,
   "id": "4892d037-ec04-41b3-aa25-991d875211a6",
   "metadata": {
    "execution": {
     "iopub.execute_input": "2025-03-26T01:49:47.569323Z",
     "iopub.status.busy": "2025-03-26T01:49:47.568722Z",
     "iopub.status.idle": "2025-03-26T01:49:48.930393Z",
     "shell.execute_reply": "2025-03-26T01:49:48.929941Z",
     "shell.execute_reply.started": "2025-03-26T01:49:47.569300Z"
    }
   },
   "outputs": [],
   "source": [
    "g = gte.load('games.net.gz')"
   ]
  },
  {
   "cell_type": "code",
   "execution_count": 19,
   "id": "0e865c7c-816f-4b49-a753-b71e1baa9597",
   "metadata": {
    "execution": {
     "iopub.execute_input": "2025-03-26T01:49:48.931288Z",
     "iopub.status.busy": "2025-03-26T01:49:48.931120Z",
     "iopub.status.idle": "2025-03-26T01:49:49.260608Z",
     "shell.execute_reply": "2025-03-26T01:49:49.260141Z",
     "shell.execute_reply.started": "2025-03-26T01:49:48.931275Z"
    }
   },
   "outputs": [],
   "source": [
    "from graph_tool.centrality import betweenness\n",
    "\n",
    "b, _ = betweenness(g)  # b = property map de betweenness dos vértices\n",
    "\n",
    "g.add_vp(\"betweenness\", b)\n"
   ]
  },
  {
   "cell_type": "code",
   "execution_count": 20,
   "id": "a342e5ec-0754-412e-8b40-34ee51e7b20e",
   "metadata": {
    "execution": {
     "iopub.execute_input": "2025-03-26T01:49:49.612997Z",
     "iopub.status.busy": "2025-03-26T01:49:49.612493Z",
     "iopub.status.idle": "2025-03-26T01:49:52.651118Z",
     "shell.execute_reply": "2025-03-26T01:49:52.650576Z",
     "shell.execute_reply.started": "2025-03-26T01:49:49.612980Z"
    }
   },
   "outputs": [],
   "source": [
    "gte.save(g, 'betweenness.net.gz')\n"
   ]
  },
  {
   "cell_type": "code",
   "execution_count": 30,
   "id": "63a3c738-51f7-4e44-b6c9-40e73d7b7d48",
   "metadata": {
    "execution": {
     "iopub.execute_input": "2025-03-26T01:57:04.880385Z",
     "iopub.status.busy": "2025-03-26T01:57:04.879820Z",
     "iopub.status.idle": "2025-03-26T01:57:04.884255Z",
     "shell.execute_reply": "2025-03-26T01:57:04.883793Z",
     "shell.execute_reply.started": "2025-03-26T01:57:04.880367Z"
    }
   },
   "outputs": [
    {
     "data": {
      "text/html": [
       "\n",
       "        <div id=\"WuAwnhVdSmx5BbTsNjCGDk\"></div>\n",
       "        <script>netpixi.render('WuAwnhVdSmx5BbTsNjCGDk', '/static/__shared__/betweenness.net.gz', 1.7777777777777777, true, false, false, true);</script>\n",
       "    "
      ],
      "text/plain": [
       "<IPython.core.display.HTML object>"
      ]
     },
     "metadata": {},
     "output_type": "display_data"
    }
   ],
   "source": [
    "r = netpixi.render('betweenness.net.gz')"
   ]
  },
  {
   "cell_type": "code",
   "execution_count": 31,
   "id": "9ece091b-a721-4eb0-b61a-fb6d964155f9",
   "metadata": {
    "execution": {
     "iopub.execute_input": "2025-03-26T01:57:11.135949Z",
     "iopub.status.busy": "2025-03-26T01:57:11.135637Z",
     "iopub.status.idle": "2025-03-26T01:57:11.139431Z",
     "shell.execute_reply": "2025-03-26T01:57:11.138941Z",
     "shell.execute_reply.started": "2025-03-26T01:57:11.135932Z"
    }
   },
   "outputs": [
    {
     "data": {
      "text/html": [
       "\n",
       "        <div id=\"ggsvJXjtQ84yxgRMgBgotw\"></div>\n",
       "        <script>netpixi.call('ggsvJXjtQ84yxgRMgBgotw', 'WuAwnhVdSmx5BbTsNjCGDk', 'normalizeGraph', 'eyJ0eXBlIjogInZlcnRleCIsICJwcm9wcyI6IHsic3JjIjogImJldHdlZW5uZXNzIiwgIm1pbiI6IDEsICJtYXgiOiAzMH19Cg==');</script>\n",
       "    "
      ],
      "text/plain": [
       "<IPython.core.display.HTML object>"
      ]
     },
     "metadata": {},
     "output_type": "display_data"
    }
   ],
   "source": [
    "r.vertex_scale('betweenness', 1, 30)\n"
   ]
  },
  {
   "cell_type": "code",
   "execution_count": 29,
   "id": "ba17e498-87b5-4ba4-b912-37620af63c4e",
   "metadata": {
    "execution": {
     "iopub.execute_input": "2025-03-26T01:56:07.783427Z",
     "iopub.status.busy": "2025-03-26T01:56:07.782905Z",
     "iopub.status.idle": "2025-03-26T01:56:07.955141Z",
     "shell.execute_reply": "2025-03-26T01:56:07.954638Z",
     "shell.execute_reply.started": "2025-03-26T01:56:07.783410Z"
    }
   },
   "outputs": [
    {
     "name": "stdout",
     "output_type": "stream",
     "text": [
      "Top 5 betweenness:\n",
      "4132: 2.1257119641421322e-07\n",
      "16005: 1.7609448223662633e-08\n",
      "0: 0.0\n",
      "1: 0.0\n",
      "2: 0.0\n",
      "\n",
      "Bottom 5 betweenness:\n",
      "39872: 0.0\n",
      "39873: 0.0\n",
      "39874: 0.0\n",
      "39875: 0.0\n",
      "39876: 0.0\n"
     ]
    }
   ],
   "source": [
    "b = g.vp['betweenness']\n",
    "\n",
    "# Cria uma lista [(vértice, valor)] e ordena do maior pro menor\n",
    "sorted_b = sorted(g.vertices(), key=lambda v: b[v], reverse=True)\n",
    "\n",
    "# Mostra os top 5 e os últimos 5\n",
    "print(\"Top 5 betweenness:\")\n",
    "for v in sorted_b[:5]:\n",
    "    print(f\"{int(v)}: {b[v]}\")\n",
    "\n",
    "print(\"\\nBottom 5 betweenness:\")\n",
    "for v in sorted_b[-5:]:\n",
    "    print(f\"{int(v)}: {b[v]}\")\n"
   ]
  },
  {
   "cell_type": "code",
   "execution_count": null,
   "id": "0a94e9c4-9807-466c-bdb3-0a9ebeb5c5f3",
   "metadata": {},
   "outputs": [],
   "source": []
  }
 ],
 "metadata": {
  "kernelspec": {
   "display_name": "Python 3 (ipykernel)",
   "language": "python",
   "name": "python3"
  },
  "language_info": {
   "codemirror_mode": {
    "name": "ipython",
    "version": 3
   },
   "file_extension": ".py",
   "mimetype": "text/x-python",
   "name": "python",
   "nbconvert_exporter": "python",
   "pygments_lexer": "ipython3",
   "version": "3.13.1"
  }
 },
 "nbformat": 4,
 "nbformat_minor": 5
}
