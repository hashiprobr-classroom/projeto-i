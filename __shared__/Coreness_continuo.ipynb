{
 "cells": [
  {
   "cell_type": "code",
   "execution_count": 1,
   "id": "dde954c2-de6f-47e3-8d18-f8b613c5c2ed",
   "metadata": {
    "execution": {
     "iopub.execute_input": "2025-03-26T02:41:10.100691Z",
     "iopub.status.busy": "2025-03-26T02:41:10.100517Z",
     "iopub.status.idle": "2025-03-26T02:41:11.887678Z",
     "shell.execute_reply": "2025-03-26T02:41:11.887184Z",
     "shell.execute_reply.started": "2025-03-26T02:41:10.100677Z"
    }
   },
   "outputs": [
    {
     "data": {
      "text/html": [
       "\n",
       "    <script src=\"/static/.hidden/netpixi.min.js\"></script>\n"
      ],
      "text/plain": [
       "<IPython.core.display.HTML object>"
      ]
     },
     "metadata": {},
     "output_type": "display_data"
    }
   ],
   "source": [
    "import netpixi\n",
    "import graph_tool_extras as gte\n",
    "import cpnet"
   ]
  },
  {
   "cell_type": "code",
   "execution_count": 2,
   "id": "d085f711-f4da-46f1-8f06-da9e9cc01e79",
   "metadata": {
    "execution": {
     "iopub.execute_input": "2025-03-26T02:41:13.745547Z",
     "iopub.status.busy": "2025-03-26T02:41:13.744880Z",
     "iopub.status.idle": "2025-03-26T02:41:15.158594Z",
     "shell.execute_reply": "2025-03-26T02:41:15.158070Z",
     "shell.execute_reply.started": "2025-03-26T02:41:13.745527Z"
    }
   },
   "outputs": [],
   "source": [
    "g = gte.load('games.net.gz')\n"
   ]
  },
  {
   "cell_type": "code",
   "execution_count": null,
   "id": "7b50bbb2-cb29-40b4-b453-4a4f6371dfc4",
   "metadata": {},
   "outputs": [],
   "source": [
    "c, l = gte.coreness(g, cpnet.Rombach)"
   ]
  },
  {
   "cell_type": "code",
   "execution_count": null,
   "id": "baf8f95e-1c18-4406-86be-11c43e9b0c8b",
   "metadata": {},
   "outputs": [],
   "source": [
    "g.add_vp('coreness', c)\n",
    "\n",
    "gte.save(g, 'coreness.net.gz')\n",
    "\n",
    "r = netpixi.render('coreness.net.gz')"
   ]
  },
  {
   "cell_type": "code",
   "execution_count": null,
   "id": "c7f60004-325b-4ee1-b1b5-9e1ff000be44",
   "metadata": {},
   "outputs": [],
   "source": [
    "r.vertex_scale('coreness', 5, 50)"
   ]
  },
  {
   "cell_type": "code",
   "execution_count": null,
   "id": "18704427-d67c-4c36-9fb1-b0fc65544eb6",
   "metadata": {},
   "outputs": [],
   "source": []
  },
  {
   "cell_type": "code",
   "execution_count": null,
   "id": "f4a073e3-5312-4ab2-86b8-2cf4ff15ed88",
   "metadata": {},
   "outputs": [],
   "source": []
  }
 ],
 "metadata": {
  "kernelspec": {
   "display_name": "Python 3 (ipykernel)",
   "language": "python",
   "name": "python3"
  },
  "language_info": {
   "codemirror_mode": {
    "name": "ipython",
    "version": 3
   },
   "file_extension": ".py",
   "mimetype": "text/x-python",
   "name": "python",
   "nbconvert_exporter": "python",
   "pygments_lexer": "ipython3",
   "version": "3.13.1"
  }
 },
 "nbformat": 4,
 "nbformat_minor": 5
}
