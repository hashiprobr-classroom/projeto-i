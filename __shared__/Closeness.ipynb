{
 "cells": [
  {
   "cell_type": "code",
   "execution_count": 10,
   "id": "564fde20-af51-4f01-b220-515febfdf286",
   "metadata": {
    "execution": {
     "iopub.execute_input": "2025-03-26T02:05:22.449803Z",
     "iopub.status.busy": "2025-03-26T02:05:22.449496Z",
     "iopub.status.idle": "2025-03-26T02:05:22.452199Z",
     "shell.execute_reply": "2025-03-26T02:05:22.451744Z",
     "shell.execute_reply.started": "2025-03-26T02:05:22.449785Z"
    }
   },
   "outputs": [],
   "source": [
    "import netpixi\n",
    "import graph_tool_extras as gte\n",
    "from graph_tool import centrality"
   ]
  },
  {
   "cell_type": "code",
   "execution_count": 11,
   "id": "8423dea9-f5d3-4675-8ada-e70b31e72374",
   "metadata": {
    "execution": {
     "iopub.execute_input": "2025-03-26T02:05:23.046139Z",
     "iopub.status.busy": "2025-03-26T02:05:23.045633Z",
     "iopub.status.idle": "2025-03-26T02:05:24.365089Z",
     "shell.execute_reply": "2025-03-26T02:05:24.364429Z",
     "shell.execute_reply.started": "2025-03-26T02:05:23.046124Z"
    }
   },
   "outputs": [],
   "source": [
    "g = gte.load('games.net.gz')"
   ]
  },
  {
   "cell_type": "code",
   "execution_count": 12,
   "id": "a62588b9-b22d-4c48-a596-473cff207bcd",
   "metadata": {
    "execution": {
     "iopub.execute_input": "2025-03-26T02:05:24.366338Z",
     "iopub.status.busy": "2025-03-26T02:05:24.366008Z",
     "iopub.status.idle": "2025-03-26T02:05:24.525833Z",
     "shell.execute_reply": "2025-03-26T02:05:24.525135Z",
     "shell.execute_reply.started": "2025-03-26T02:05:24.366324Z"
    }
   },
   "outputs": [],
   "source": [
    "\n",
    "\n",
    "# O parâmetro harmonic=True é necessário para garantir\n",
    "# que a fórmula seja exatamente a definida acima.\n",
    "c = centrality.closeness(g, harmonic=True)\n",
    "\n",
    "g.add_vp('closeness', c)"
   ]
  },
  {
   "cell_type": "code",
   "execution_count": 13,
   "id": "16fcabd1-5df2-4d7c-9c3c-8608b967cca9",
   "metadata": {
    "execution": {
     "iopub.execute_input": "2025-03-26T02:05:25.215607Z",
     "iopub.status.busy": "2025-03-26T02:05:25.215375Z",
     "iopub.status.idle": "2025-03-26T02:05:28.302014Z",
     "shell.execute_reply": "2025-03-26T02:05:28.301355Z",
     "shell.execute_reply.started": "2025-03-26T02:05:25.215592Z"
    }
   },
   "outputs": [],
   "source": [
    "gte.save(g, 'closeness.net.gz')"
   ]
  },
  {
   "cell_type": "code",
   "execution_count": 14,
   "id": "09e98591-528c-4e44-816e-ca542efe4ded",
   "metadata": {
    "execution": {
     "iopub.execute_input": "2025-03-26T02:06:11.521036Z",
     "iopub.status.busy": "2025-03-26T02:06:11.520676Z",
     "iopub.status.idle": "2025-03-26T02:06:11.526461Z",
     "shell.execute_reply": "2025-03-26T02:06:11.526006Z",
     "shell.execute_reply.started": "2025-03-26T02:06:11.521020Z"
    }
   },
   "outputs": [
    {
     "data": {
      "text/html": [
       "\n",
       "        <div id=\"Z4asy4TLVFGfTRihCw6Jdx\"></div>\n",
       "        <script>netpixi.render('Z4asy4TLVFGfTRihCw6Jdx', '/static/__shared__/closeness.net.gz', 1.7777777777777777, true, false, false, true);</script>\n",
       "    "
      ],
      "text/plain": [
       "<IPython.core.display.HTML object>"
      ]
     },
     "metadata": {},
     "output_type": "display_data"
    }
   ],
   "source": [
    "r = netpixi.render('closeness.net.gz')"
   ]
  },
  {
   "cell_type": "code",
   "execution_count": 17,
   "id": "9814743f-7b40-4d56-9f4d-ec3918871232",
   "metadata": {
    "execution": {
     "iopub.execute_input": "2025-03-26T02:07:18.578469Z",
     "iopub.status.busy": "2025-03-26T02:07:18.578033Z",
     "iopub.status.idle": "2025-03-26T02:07:18.582261Z",
     "shell.execute_reply": "2025-03-26T02:07:18.581747Z",
     "shell.execute_reply.started": "2025-03-26T02:07:18.578452Z"
    }
   },
   "outputs": [
    {
     "data": {
      "text/html": [
       "\n",
       "        <div id=\"5BCoWWPfKoxriazQz9KrCy\"></div>\n",
       "        <script>netpixi.call('5BCoWWPfKoxriazQz9KrCy', 'Z4asy4TLVFGfTRihCw6Jdx', 'normalizeGraph', 'eyJ0eXBlIjogInZlcnRleCIsICJwcm9wcyI6IHsic3JjIjogImNsb3NlbmVzcyIsICJtaW4iOiAxLCAibWF4IjogNTB9fQo=');</script>\n",
       "    "
      ],
      "text/plain": [
       "<IPython.core.display.HTML object>"
      ]
     },
     "metadata": {},
     "output_type": "display_data"
    }
   ],
   "source": [
    "r.vertex_scale('closeness', 1, 50)"
   ]
  },
  {
   "cell_type": "code",
   "execution_count": null,
   "id": "baf1e65a-3b1e-474d-9b1c-a7d233e825a0",
   "metadata": {},
   "outputs": [],
   "source": []
  }
 ],
 "metadata": {
  "kernelspec": {
   "display_name": "Python 3 (ipykernel)",
   "language": "python",
   "name": "python3"
  },
  "language_info": {
   "codemirror_mode": {
    "name": "ipython",
    "version": 3
   },
   "file_extension": ".py",
   "mimetype": "text/x-python",
   "name": "python",
   "nbconvert_exporter": "python",
   "pygments_lexer": "ipython3",
   "version": "3.13.1"
  }
 },
 "nbformat": 4,
 "nbformat_minor": 5
}
