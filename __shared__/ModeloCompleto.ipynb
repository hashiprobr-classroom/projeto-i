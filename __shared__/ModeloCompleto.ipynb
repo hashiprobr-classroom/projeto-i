{
 "cells": [
  {
   "cell_type": "code",
   "execution_count": 1,
   "id": "7894f6e0",
   "metadata": {
    "execution": {
     "iopub.execute_input": "2025-05-19T16:16:40.401980Z",
     "iopub.status.busy": "2025-05-19T16:16:40.401240Z",
     "iopub.status.idle": "2025-05-19T16:16:48.129956Z",
     "shell.execute_reply": "2025-05-19T16:16:48.128857Z",
     "shell.execute_reply.started": "2025-05-19T16:16:40.401951Z"
    },
    "vscode": {
     "languageId": "plaintext"
    }
   },
   "outputs": [],
   "source": [
    "import pandas as pd\n",
    "import statsmodels.api as sm\n",
    "import matplotlib.pyplot as plt\n",
    "import graph_tool_extras as gte\n",
    "import graph_tool.all as gt\n",
    "from sklearn.preprocessing import StandardScaler"
   ]
  },
  {
   "cell_type": "code",
   "execution_count": 2,
   "id": "f9c489db-55b9-488f-8c50-89648202caf2",
   "metadata": {
    "execution": {
     "iopub.execute_input": "2025-05-19T16:16:48.137094Z",
     "iopub.status.busy": "2025-05-19T16:16:48.136131Z",
     "iopub.status.idle": "2025-05-19T16:16:49.274037Z",
     "shell.execute_reply": "2025-05-19T16:16:49.272662Z",
     "shell.execute_reply.started": "2025-05-19T16:16:48.137032Z"
    }
   },
   "outputs": [],
   "source": [
    "PATH = 'games-sales.csv'\n",
    "data = pd.read_csv(PATH)"
   ]
  },
  {
   "cell_type": "code",
   "execution_count": 3,
   "id": "f5f3b23c-1f41-4f62-9525-59b257f9795f",
   "metadata": {
    "execution": {
     "iopub.execute_input": "2025-05-19T16:16:49.276249Z",
     "iopub.status.busy": "2025-05-19T16:16:49.275790Z",
     "iopub.status.idle": "2025-05-19T16:16:49.326880Z",
     "shell.execute_reply": "2025-05-19T16:16:49.325360Z",
     "shell.execute_reply.started": "2025-05-19T16:16:49.276208Z"
    },
    "scrolled": true
   },
   "outputs": [
    {
     "data": {
      "text/html": [
       "<div>\n",
       "<style scoped>\n",
       "    .dataframe tbody tr th:only-of-type {\n",
       "        vertical-align: middle;\n",
       "    }\n",
       "\n",
       "    .dataframe tbody tr th {\n",
       "        vertical-align: top;\n",
       "    }\n",
       "\n",
       "    .dataframe thead th {\n",
       "        text-align: right;\n",
       "    }\n",
       "</style>\n",
       "<table border=\"1\" class=\"dataframe\">\n",
       "  <thead>\n",
       "    <tr style=\"text-align: right;\">\n",
       "      <th></th>\n",
       "      <th>img</th>\n",
       "      <th>title</th>\n",
       "      <th>console</th>\n",
       "      <th>genre</th>\n",
       "      <th>publisher</th>\n",
       "      <th>developer</th>\n",
       "      <th>critic_score</th>\n",
       "      <th>total_sales</th>\n",
       "      <th>na_sales</th>\n",
       "      <th>jp_sales</th>\n",
       "      <th>pal_sales</th>\n",
       "      <th>other_sales</th>\n",
       "      <th>release_date</th>\n",
       "      <th>last_update</th>\n",
       "    </tr>\n",
       "  </thead>\n",
       "  <tbody>\n",
       "    <tr>\n",
       "      <th>0</th>\n",
       "      <td>/games/boxart/full_6510540AmericaFrontccc.jpg</td>\n",
       "      <td>Grand Theft Auto V</td>\n",
       "      <td>PS3</td>\n",
       "      <td>Action</td>\n",
       "      <td>Rockstar Games</td>\n",
       "      <td>Rockstar North</td>\n",
       "      <td>9.4</td>\n",
       "      <td>20.32</td>\n",
       "      <td>6.37</td>\n",
       "      <td>0.99</td>\n",
       "      <td>9.85</td>\n",
       "      <td>3.12</td>\n",
       "      <td>2013-09-17</td>\n",
       "      <td>NaN</td>\n",
       "    </tr>\n",
       "    <tr>\n",
       "      <th>1</th>\n",
       "      <td>/games/boxart/full_5563178AmericaFrontccc.jpg</td>\n",
       "      <td>Grand Theft Auto V</td>\n",
       "      <td>PS4</td>\n",
       "      <td>Action</td>\n",
       "      <td>Rockstar Games</td>\n",
       "      <td>Rockstar North</td>\n",
       "      <td>9.7</td>\n",
       "      <td>19.39</td>\n",
       "      <td>6.06</td>\n",
       "      <td>0.60</td>\n",
       "      <td>9.71</td>\n",
       "      <td>3.02</td>\n",
       "      <td>2014-11-18</td>\n",
       "      <td>2018-01-03</td>\n",
       "    </tr>\n",
       "    <tr>\n",
       "      <th>2</th>\n",
       "      <td>/games/boxart/827563ccc.jpg</td>\n",
       "      <td>Grand Theft Auto: Vice City</td>\n",
       "      <td>PS2</td>\n",
       "      <td>Action</td>\n",
       "      <td>Rockstar Games</td>\n",
       "      <td>Rockstar North</td>\n",
       "      <td>9.6</td>\n",
       "      <td>16.15</td>\n",
       "      <td>8.41</td>\n",
       "      <td>0.47</td>\n",
       "      <td>5.49</td>\n",
       "      <td>1.78</td>\n",
       "      <td>2002-10-28</td>\n",
       "      <td>NaN</td>\n",
       "    </tr>\n",
       "    <tr>\n",
       "      <th>3</th>\n",
       "      <td>/games/boxart/full_9218923AmericaFrontccc.jpg</td>\n",
       "      <td>Grand Theft Auto V</td>\n",
       "      <td>X360</td>\n",
       "      <td>Action</td>\n",
       "      <td>Rockstar Games</td>\n",
       "      <td>Rockstar North</td>\n",
       "      <td>NaN</td>\n",
       "      <td>15.86</td>\n",
       "      <td>9.06</td>\n",
       "      <td>0.06</td>\n",
       "      <td>5.33</td>\n",
       "      <td>1.42</td>\n",
       "      <td>2013-09-17</td>\n",
       "      <td>NaN</td>\n",
       "    </tr>\n",
       "    <tr>\n",
       "      <th>4</th>\n",
       "      <td>/games/boxart/full_4990510AmericaFrontccc.jpg</td>\n",
       "      <td>Call of Duty: Black Ops 3</td>\n",
       "      <td>PS4</td>\n",
       "      <td>Shooter</td>\n",
       "      <td>Activision</td>\n",
       "      <td>Treyarch</td>\n",
       "      <td>8.1</td>\n",
       "      <td>15.09</td>\n",
       "      <td>6.18</td>\n",
       "      <td>0.41</td>\n",
       "      <td>6.05</td>\n",
       "      <td>2.44</td>\n",
       "      <td>2015-11-06</td>\n",
       "      <td>2018-01-14</td>\n",
       "    </tr>\n",
       "  </tbody>\n",
       "</table>\n",
       "</div>"
      ],
      "text/plain": [
       "                                             img                        title  \\\n",
       "0  /games/boxart/full_6510540AmericaFrontccc.jpg           Grand Theft Auto V   \n",
       "1  /games/boxart/full_5563178AmericaFrontccc.jpg           Grand Theft Auto V   \n",
       "2                    /games/boxart/827563ccc.jpg  Grand Theft Auto: Vice City   \n",
       "3  /games/boxart/full_9218923AmericaFrontccc.jpg           Grand Theft Auto V   \n",
       "4  /games/boxart/full_4990510AmericaFrontccc.jpg    Call of Duty: Black Ops 3   \n",
       "\n",
       "  console    genre       publisher       developer  critic_score  total_sales  \\\n",
       "0     PS3   Action  Rockstar Games  Rockstar North           9.4        20.32   \n",
       "1     PS4   Action  Rockstar Games  Rockstar North           9.7        19.39   \n",
       "2     PS2   Action  Rockstar Games  Rockstar North           9.6        16.15   \n",
       "3    X360   Action  Rockstar Games  Rockstar North           NaN        15.86   \n",
       "4     PS4  Shooter      Activision        Treyarch           8.1        15.09   \n",
       "\n",
       "   na_sales  jp_sales  pal_sales  other_sales release_date last_update  \n",
       "0      6.37      0.99       9.85         3.12   2013-09-17         NaN  \n",
       "1      6.06      0.60       9.71         3.02   2014-11-18  2018-01-03  \n",
       "2      8.41      0.47       5.49         1.78   2002-10-28         NaN  \n",
       "3      9.06      0.06       5.33         1.42   2013-09-17         NaN  \n",
       "4      6.18      0.41       6.05         2.44   2015-11-06  2018-01-14  "
      ]
     },
     "execution_count": 3,
     "metadata": {},
     "output_type": "execute_result"
    }
   ],
   "source": [
    "data.head(5)"
   ]
  },
  {
   "cell_type": "code",
   "execution_count": 4,
   "id": "85d0355b-b868-4749-9c10-fe3f90fa7687",
   "metadata": {
    "execution": {
     "iopub.execute_input": "2025-05-19T16:16:49.328909Z",
     "iopub.status.busy": "2025-05-19T16:16:49.328177Z",
     "iopub.status.idle": "2025-05-19T16:17:01.595829Z",
     "shell.execute_reply": "2025-05-19T16:17:01.594613Z",
     "shell.execute_reply.started": "2025-05-19T16:16:49.328876Z"
    }
   },
   "outputs": [],
   "source": [
    "g = gte.load(\"degree.net.gz\")\n",
    "b, _ = gt.betweenness(g)\n",
    "g.vp['betweenness'] = b"
   ]
  },
  {
   "cell_type": "code",
   "execution_count": 5,
   "id": "7f73ae0c-6d58-4da1-88d3-74e757842db0",
   "metadata": {
    "execution": {
     "iopub.execute_input": "2025-05-19T16:17:01.596998Z",
     "iopub.status.busy": "2025-05-19T16:17:01.596678Z",
     "iopub.status.idle": "2025-05-19T16:17:01.913580Z",
     "shell.execute_reply": "2025-05-19T16:17:01.912461Z",
     "shell.execute_reply.started": "2025-05-19T16:17:01.596971Z"
    }
   },
   "outputs": [],
   "source": [
    "consoles = [v for v in g.vertices() if g.vp[\"Tipo\"][v] == \"Console\"]\n",
    "console_names = [g.vp[\"id\"][v] for v in consoles]\n",
    "\n",
    "# Removendo PC\n",
    "index_pc = console_names.index(\"PC\")\n",
    "consoles_sem_pc = [v for i, v in enumerate(consoles) if i != index_pc]\n",
    "console_names_sem_pc = [g.vp[\"id\"][v] for v in consoles_sem_pc]\n",
    "\n",
    "console_degrees = [g.get_total_degrees([v])[0] for v in consoles_sem_pc]\n",
    "console_betweenness = [g.vp['betweenness'][v] for v in consoles_sem_pc]"
   ]
  },
  {
   "cell_type": "code",
   "execution_count": 6,
   "id": "cccc2aa7-c7d6-4c81-8785-9ed97c898d50",
   "metadata": {
    "execution": {
     "iopub.execute_input": "2025-05-19T16:17:01.914543Z",
     "iopub.status.busy": "2025-05-19T16:17:01.914282Z",
     "iopub.status.idle": "2025-05-19T16:17:02.230307Z",
     "shell.execute_reply": "2025-05-19T16:17:02.228920Z",
     "shell.execute_reply.started": "2025-05-19T16:17:01.914521Z"
    }
   },
   "outputs": [
    {
     "name": "stdout",
     "output_type": "stream",
     "text": [
      "                            OLS Regression Results                            \n",
      "==============================================================================\n",
      "Dep. Variable:            total_sales   R-squared:                       0.552\n",
      "Model:                            OLS   Adj. R-squared:                  0.541\n",
      "Method:                 Least Squares   F-statistic:                     47.52\n",
      "Date:                Mon, 19 May 2025   Prob (F-statistic):           3.62e-14\n",
      "Time:                        16:17:02   Log-Likelihood:                -506.26\n",
      "No. Observations:                  80   AIC:                             1019.\n",
      "Df Residuals:                      77   BIC:                             1026.\n",
      "Df Model:                           2                                         \n",
      "Covariance Type:            nonrobust                                         \n",
      "==============================================================================\n",
      "                 coef    std err          t      P>|t|      [0.025      0.975]\n",
      "------------------------------------------------------------------------------\n",
      "const         80.4615     15.448      5.209      0.000      49.701     111.222\n",
      "x1           150.5825     15.478      9.729      0.000     119.762     181.403\n",
      "x2            -0.2003     15.478     -0.013      0.990     -31.021      30.620\n",
      "==============================================================================\n",
      "Omnibus:                       42.246   Durbin-Watson:                   1.270\n",
      "Prob(Omnibus):                  0.000   Jarque-Bera (JB):              203.494\n",
      "Skew:                           1.472   Prob(JB):                     6.48e-45\n",
      "Kurtosis:                      10.238   Cond. No.                         1.06\n",
      "==============================================================================\n",
      "\n",
      "Notes:\n",
      "[1] Standard Errors assume that the covariance matrix of the errors is correctly specified.\n"
     ]
    },
    {
     "data": {
      "image/png": "[encoded data removed]",
      "text/plain": [
       "<Figure size 640x480 with 1 Axes>"
      ]
     },
     "metadata": {},
     "output_type": "display_data"
    }
   ],
   "source": [
    "vendas_por_console_df = (\n",
    "    data[data['console'].isin(console_names_sem_pc)]\n",
    "    .groupby('console')['total_sales']\n",
    "    .sum()\n",
    "    .reset_index()\n",
    ")\n",
    "\n",
    "df_grafo = pd.DataFrame({\n",
    "    \"console\": console_names_sem_pc,\n",
    "    \"degree\": console_degrees,\n",
    "    \"betweenness\": console_betweenness\n",
    "})\n",
    "\n",
    "df_merge = pd.merge(df_grafo, vendas_por_console_df, on=\"console\")\n",
    "\n",
    "# Define as variáveis independentes\n",
    "X_raw = df_merge[[\"degree\", \"betweenness\"]]\n",
    "\n",
    "# Normaliza com StandardScaler\n",
    "scaler = StandardScaler()\n",
    "X_scaled = scaler.fit_transform(X_raw)\n",
    "\n",
    "# Regressão linear: total_sales ~ degree + betweenness\n",
    "X = sm.add_constant(X_scaled)\n",
    "y = df_merge[\"total_sales\"]\n",
    "modelo = sm.OLS(y, X).fit()\n",
    "\n",
    "print(modelo.summary())\n",
    "\n",
    "# Gráfico de resíduos\n",
    "plt.scatter(modelo.fittedvalues, modelo.resid)\n",
    "plt.axhline(0, color='red', linestyle='--')\n",
    "plt.xlabel(\"Valores Ajustados\")\n",
    "plt.ylabel(\"Resíduos\")\n",
    "plt.title(\"Gráfico de Resíduos\")\n",
    "plt.show()"
   ]
  },
  {
   "cell_type": "code",
   "execution_count": null,
   "id": "30e0de21-af2e-4838-97f2-4c11e8551ae7",
   "metadata": {},
   "outputs": [],
   "source": []
  }
 ],
 "metadata": {
  "kernelspec": {
   "display_name": "Python 3 (ipykernel)",
   "language": "python",
   "name": "python3"
  },
  "language_info": {
   "codemirror_mode": {
    "name": "ipython",
    "version": 3
   },
   "file_extension": ".py",
   "mimetype": "text/x-python",
   "name": "python",
   "nbconvert_exporter": "python",
   "pygments_lexer": "ipython3",
   "version": "3.13.1"
  }
 },
 "nbformat": 4,
 "nbformat_minor": 5
}
