{
 "cells": [
  {
   "cell_type": "code",
   "execution_count": 2,
   "id": "2937ba17-f642-4930-a4ea-a6ac6506a7c0",
   "metadata": {
    "execution": {
     "iopub.execute_input": "2025-05-19T14:38:15.318919Z",
     "iopub.status.busy": "2025-05-19T14:38:15.318326Z",
     "iopub.status.idle": "2025-05-19T14:38:18.172342Z",
     "shell.execute_reply": "2025-05-19T14:38:18.171583Z",
     "shell.execute_reply.started": "2025-05-19T14:38:15.318888Z"
    }
   },
   "outputs": [],
   "source": [
    "import pandas as pd\n",
    "import statsmodels.api as sm\n",
    "import matplotlib.pyplot as plt\n",
    "import graph_tool_extras as gte\n",
    "import graph_tool.all as gt"
   ]
  },
  {
   "cell_type": "code",
   "execution_count": 3,
   "id": "09db4677-bfba-439d-9de7-6a0bedf4f8d1",
   "metadata": {
    "execution": {
     "iopub.execute_input": "2025-05-19T14:38:18.174706Z",
     "iopub.status.busy": "2025-05-19T14:38:18.173660Z",
     "iopub.status.idle": "2025-05-19T14:38:18.568590Z",
     "shell.execute_reply": "2025-05-19T14:38:18.567609Z",
     "shell.execute_reply.started": "2025-05-19T14:38:18.174671Z"
    }
   },
   "outputs": [],
   "source": [
    "PATH = 'games-sales.csv'\n",
    "data = pd.read_csv(PATH)"
   ]
  },
  {
   "cell_type": "code",
   "execution_count": 4,
   "id": "a6366042-c0dc-4700-96b3-a0076f79b3cc",
   "metadata": {
    "execution": {
     "iopub.execute_input": "2025-05-19T14:38:18.569940Z",
     "iopub.status.busy": "2025-05-19T14:38:18.569591Z",
     "iopub.status.idle": "2025-05-19T14:38:18.599639Z",
     "shell.execute_reply": "2025-05-19T14:38:18.597563Z",
     "shell.execute_reply.started": "2025-05-19T14:38:18.569897Z"
    }
   },
   "outputs": [
    {
     "data": {
      "text/html": [
       "<div>\n",
       "<style scoped>\n",
       "    .dataframe tbody tr th:only-of-type {\n",
       "        vertical-align: middle;\n",
       "    }\n",
       "\n",
       "    .dataframe tbody tr th {\n",
       "        vertical-align: top;\n",
       "    }\n",
       "\n",
       "    .dataframe thead th {\n",
       "        text-align: right;\n",
       "    }\n",
       "</style>\n",
       "<table border=\"1\" class=\"dataframe\">\n",
       "  <thead>\n",
       "    <tr style=\"text-align: right;\">\n",
       "      <th></th>\n",
       "      <th>img</th>\n",
       "      <th>title</th>\n",
       "      <th>console</th>\n",
       "      <th>genre</th>\n",
       "      <th>publisher</th>\n",
       "      <th>developer</th>\n",
       "      <th>critic_score</th>\n",
       "      <th>total_sales</th>\n",
       "      <th>na_sales</th>\n",
       "      <th>jp_sales</th>\n",
       "      <th>pal_sales</th>\n",
       "      <th>other_sales</th>\n",
       "      <th>release_date</th>\n",
       "      <th>last_update</th>\n",
       "    </tr>\n",
       "  </thead>\n",
       "  <tbody>\n",
       "    <tr>\n",
       "      <th>0</th>\n",
       "      <td>/games/boxart/full_6510540AmericaFrontccc.jpg</td>\n",
       "      <td>Grand Theft Auto V</td>\n",
       "      <td>PS3</td>\n",
       "      <td>Action</td>\n",
       "      <td>Rockstar Games</td>\n",
       "      <td>Rockstar North</td>\n",
       "      <td>9.4</td>\n",
       "      <td>20.32</td>\n",
       "      <td>6.37</td>\n",
       "      <td>0.99</td>\n",
       "      <td>9.85</td>\n",
       "      <td>3.12</td>\n",
       "      <td>2013-09-17</td>\n",
       "      <td>NaN</td>\n",
       "    </tr>\n",
       "    <tr>\n",
       "      <th>1</th>\n",
       "      <td>/games/boxart/full_5563178AmericaFrontccc.jpg</td>\n",
       "      <td>Grand Theft Auto V</td>\n",
       "      <td>PS4</td>\n",
       "      <td>Action</td>\n",
       "      <td>Rockstar Games</td>\n",
       "      <td>Rockstar North</td>\n",
       "      <td>9.7</td>\n",
       "      <td>19.39</td>\n",
       "      <td>6.06</td>\n",
       "      <td>0.60</td>\n",
       "      <td>9.71</td>\n",
       "      <td>3.02</td>\n",
       "      <td>2014-11-18</td>\n",
       "      <td>2018-01-03</td>\n",
       "    </tr>\n",
       "    <tr>\n",
       "      <th>2</th>\n",
       "      <td>/games/boxart/827563ccc.jpg</td>\n",
       "      <td>Grand Theft Auto: Vice City</td>\n",
       "      <td>PS2</td>\n",
       "      <td>Action</td>\n",
       "      <td>Rockstar Games</td>\n",
       "      <td>Rockstar North</td>\n",
       "      <td>9.6</td>\n",
       "      <td>16.15</td>\n",
       "      <td>8.41</td>\n",
       "      <td>0.47</td>\n",
       "      <td>5.49</td>\n",
       "      <td>1.78</td>\n",
       "      <td>2002-10-28</td>\n",
       "      <td>NaN</td>\n",
       "    </tr>\n",
       "  </tbody>\n",
       "</table>\n",
       "</div>"
      ],
      "text/plain": [
       "                                             img                        title  \\\n",
       "0  /games/boxart/full_6510540AmericaFrontccc.jpg           Grand Theft Auto V   \n",
       "1  /games/boxart/full_5563178AmericaFrontccc.jpg           Grand Theft Auto V   \n",
       "2                    /games/boxart/827563ccc.jpg  Grand Theft Auto: Vice City   \n",
       "\n",
       "  console   genre       publisher       developer  critic_score  total_sales  \\\n",
       "0     PS3  Action  Rockstar Games  Rockstar North           9.4        20.32   \n",
       "1     PS4  Action  Rockstar Games  Rockstar North           9.7        19.39   \n",
       "2     PS2  Action  Rockstar Games  Rockstar North           9.6        16.15   \n",
       "\n",
       "   na_sales  jp_sales  pal_sales  other_sales release_date last_update  \n",
       "0      6.37      0.99       9.85         3.12   2013-09-17         NaN  \n",
       "1      6.06      0.60       9.71         3.02   2014-11-18  2018-01-03  \n",
       "2      8.41      0.47       5.49         1.78   2002-10-28         NaN  "
      ]
     },
     "execution_count": 4,
     "metadata": {},
     "output_type": "execute_result"
    }
   ],
   "source": [
    "data.head(3)"
   ]
  },
  {
   "cell_type": "code",
   "execution_count": 5,
   "id": "fc6cf59d-0f7a-4d47-a305-4cf500235325",
   "metadata": {
    "execution": {
     "iopub.execute_input": "2025-05-19T14:38:18.844209Z",
     "iopub.status.busy": "2025-05-19T14:38:18.842715Z",
     "iopub.status.idle": "2025-05-19T14:38:30.236328Z",
     "shell.execute_reply": "2025-05-19T14:38:30.235147Z",
     "shell.execute_reply.started": "2025-05-19T14:38:18.844160Z"
    }
   },
   "outputs": [],
   "source": [
    "g = gte.load(\"degree.net.gz\")\n",
    "b, _ = gt.betweenness(g)\n",
    "g.vp['betweenness'] = b"
   ]
  },
  {
   "cell_type": "code",
   "execution_count": 10,
   "id": "da3934e8-a84c-4ca1-a391-a94873f77e65",
   "metadata": {
    "execution": {
     "iopub.execute_input": "2025-05-19T14:39:00.390261Z",
     "iopub.status.busy": "2025-05-19T14:39:00.389070Z",
     "iopub.status.idle": "2025-05-19T14:39:00.547016Z",
     "shell.execute_reply": "2025-05-19T14:39:00.546134Z",
     "shell.execute_reply.started": "2025-05-19T14:39:00.390220Z"
    }
   },
   "outputs": [],
   "source": [
    "consoles = [v for v in g.vertices() if g.vp[\"Tipo\"][v] == \"Console\"]"
   ]
  },
  {
   "cell_type": "code",
   "execution_count": 11,
   "id": "aa235da2-e06b-442f-b75f-b63e22b99158",
   "metadata": {
    "execution": {
     "iopub.execute_input": "2025-05-19T14:39:01.011869Z",
     "iopub.status.busy": "2025-05-19T14:39:01.011184Z",
     "iopub.status.idle": "2025-05-19T14:39:01.017619Z",
     "shell.execute_reply": "2025-05-19T14:39:01.015600Z",
     "shell.execute_reply.started": "2025-05-19T14:39:01.011847Z"
    }
   },
   "outputs": [],
   "source": [
    "console_names = [g.vp[\"id\"][v] for v in consoles] \n",
    "console_names_sem_pc = [g.vp[\"id\"][v] for v in consoles if g.vp[\"id\"][v] != \"PC\"] # eliminando outlier: PC"
   ]
  },
  {
   "cell_type": "code",
   "execution_count": 12,
   "id": "3feb9779-c7e8-4750-8244-1354b14a9a67",
   "metadata": {
    "execution": {
     "iopub.execute_input": "2025-05-19T14:39:01.472404Z",
     "iopub.status.busy": "2025-05-19T14:39:01.471408Z",
     "iopub.status.idle": "2025-05-19T14:39:01.478412Z",
     "shell.execute_reply": "2025-05-19T14:39:01.477086Z",
     "shell.execute_reply.started": "2025-05-19T14:39:01.472359Z"
    }
   },
   "outputs": [
    {
     "name": "stdout",
     "output_type": "stream",
     "text": [
      "['PS3', 'PS4', 'PS2', 'X360', 'XOne', 'PC', 'PSP', 'Wii', 'PS', 'DS', '2600', 'GBA', 'NES', 'XB', 'PSN', 'GEN', 'PSV', 'DC', 'N64', 'SAT', 'SNES', 'GBC', 'GC', 'NS', '3DS', 'GB', 'WiiU', 'WS', 'VC', 'NG', 'WW', 'SCD', 'PCE', 'XBL', '3DO', 'GG', 'OSX', 'Mob', 'PCFX', 'Series', 'All', 'iOS', '5200', 'And', 'DSiW', 'Lynx', 'Linux', 'MS', 'ZXS', 'ACPC', 'Amig', '7800', 'DSi', 'AJ', 'WinP', 'iQue', 'GIZ', 'VB', 'Ouya', 'NGage', 'AST', 'MSD', 'S32X', 'XS', 'PS5', 'Int', 'CV', 'Arc', 'C64', 'FDS', 'MSX', 'OR', 'C128', 'CDi', 'CD32', 'BRW', 'FMT', 'ApII', 'Aco', 'BBCM', 'TG16']\n"
     ]
    }
   ],
   "source": [
    "print(console_names)"
   ]
  },
  {
   "cell_type": "code",
   "execution_count": 13,
   "id": "547e7d4c-698c-4e45-ad66-3f8d841c377b",
   "metadata": {
    "execution": {
     "iopub.execute_input": "2025-05-19T14:39:01.904814Z",
     "iopub.status.busy": "2025-05-19T14:39:01.903795Z",
     "iopub.status.idle": "2025-05-19T14:39:01.909273Z",
     "shell.execute_reply": "2025-05-19T14:39:01.908093Z",
     "shell.execute_reply.started": "2025-05-19T14:39:01.904788Z"
    }
   },
   "outputs": [
    {
     "name": "stdout",
     "output_type": "stream",
     "text": [
      "['PS3', 'PS4', 'PS2', 'X360', 'XOne', 'PSP', 'Wii', 'PS', 'DS', '2600', 'GBA', 'NES', 'XB', 'PSN', 'GEN', 'PSV', 'DC', 'N64', 'SAT', 'SNES', 'GBC', 'GC', 'NS', '3DS', 'GB', 'WiiU', 'WS', 'VC', 'NG', 'WW', 'SCD', 'PCE', 'XBL', '3DO', 'GG', 'OSX', 'Mob', 'PCFX', 'Series', 'All', 'iOS', '5200', 'And', 'DSiW', 'Lynx', 'Linux', 'MS', 'ZXS', 'ACPC', 'Amig', '7800', 'DSi', 'AJ', 'WinP', 'iQue', 'GIZ', 'VB', 'Ouya', 'NGage', 'AST', 'MSD', 'S32X', 'XS', 'PS5', 'Int', 'CV', 'Arc', 'C64', 'FDS', 'MSX', 'OR', 'C128', 'CDi', 'CD32', 'BRW', 'FMT', 'ApII', 'Aco', 'BBCM', 'TG16']\n"
     ]
    }
   ],
   "source": [
    "print(console_names_sem_pc)"
   ]
  },
  {
   "cell_type": "code",
   "execution_count": 14,
   "id": "59edf17b-7ac9-4ce4-8458-2ad5fd5db13d",
   "metadata": {
    "execution": {
     "iopub.execute_input": "2025-05-19T14:39:02.454465Z",
     "iopub.status.busy": "2025-05-19T14:39:02.454104Z",
     "iopub.status.idle": "2025-05-19T14:39:02.460245Z",
     "shell.execute_reply": "2025-05-19T14:39:02.459106Z",
     "shell.execute_reply.started": "2025-05-19T14:39:02.454440Z"
    }
   },
   "outputs": [
    {
     "name": "stdout",
     "output_type": "stream",
     "text": [
      "5\n"
     ]
    }
   ],
   "source": [
    "index_pc = console_names.index(\"PC\")\n",
    "print(index_pc)"
   ]
  },
  {
   "cell_type": "code",
   "execution_count": 15,
   "id": "62d75081-832d-4c53-94c9-57b7f9e355b1",
   "metadata": {
    "execution": {
     "iopub.execute_input": "2025-05-19T14:39:02.911441Z",
     "iopub.status.busy": "2025-05-19T14:39:02.910740Z",
     "iopub.status.idle": "2025-05-19T14:39:02.919359Z",
     "shell.execute_reply": "2025-05-19T14:39:02.918232Z",
     "shell.execute_reply.started": "2025-05-19T14:39:02.911411Z"
    }
   },
   "outputs": [
    {
     "name": "stdout",
     "output_type": "stream",
     "text": [
      "0           8\n",
      "1        1905\n",
      "2        2878\n",
      "3           3\n",
      "4        3565\n",
      "         ... \n",
      "39872       1\n",
      "39873       1\n",
      "39874       2\n",
      "39875       1\n",
      "39876       1\n",
      "Length: 39877, dtype: uint64\n"
     ]
    }
   ],
   "source": [
    "degrees = g.get_total_degrees()\n",
    "print(degrees)"
   ]
  },
  {
   "cell_type": "code",
   "execution_count": 16,
   "id": "f965c5ab-bb70-4f67-8ec7-9d780772c163",
   "metadata": {
    "execution": {
     "iopub.execute_input": "2025-05-19T14:39:03.721715Z",
     "iopub.status.busy": "2025-05-19T14:39:03.720601Z",
     "iopub.status.idle": "2025-05-19T14:39:03.727112Z",
     "shell.execute_reply": "2025-05-19T14:39:03.725973Z",
     "shell.execute_reply.started": "2025-05-19T14:39:03.721686Z"
    }
   },
   "outputs": [],
   "source": [
    "console_degrees = [degrees[int(v)] for v in consoles]\n",
    "console_degrees_sem_pc = [degrees[int(v)] for i, v in enumerate(consoles) if i != index_pc]"
   ]
  },
  {
   "cell_type": "code",
   "execution_count": 17,
   "id": "efc03d7f-9e8c-429b-b590-6f761a4672f9",
   "metadata": {
    "execution": {
     "iopub.execute_input": "2025-05-19T14:39:04.087867Z",
     "iopub.status.busy": "2025-05-19T14:39:04.087540Z",
     "iopub.status.idle": "2025-05-19T14:39:04.093248Z",
     "shell.execute_reply": "2025-05-19T14:39:04.091641Z",
     "shell.execute_reply.started": "2025-05-19T14:39:04.087845Z"
    }
   },
   "outputs": [
    {
     "name": "stdout",
     "output_type": "stream",
     "text": [
      "[np.uint64(1905), np.uint64(2878), np.uint64(3565), np.uint64(1735), np.uint64(1963), np.uint64(12617), np.uint64(1807), np.uint64(1676), np.uint64(2707), np.uint64(3288), np.uint64(501), np.uint64(1659), np.uint64(1106), np.uint64(982), np.uint64(2004), np.uint64(804), np.uint64(1105), np.uint64(655), np.uint64(393), np.uint64(739), np.uint64(1211), np.uint64(16), np.uint64(663), np.uint64(2337), np.uint64(1192), np.uint64(1599), np.uint64(554), np.uint64(199), np.uint64(661), np.uint64(174), np.uint64(465), np.uint64(218), np.uint64(459), np.uint64(2120), np.uint64(305), np.uint64(332), np.uint64(673), np.uint64(20), np.uint64(67), np.uint64(464), np.uint64(1138), np.uint64(155), np.uint64(73), np.uint64(1051), np.uint64(753), np.uint64(89), np.uint64(370), np.uint64(336), np.uint64(19), np.uint64(20), np.uint64(30), np.uint64(59), np.uint64(76), np.uint64(72), np.uint64(70), np.uint64(17), np.uint64(55), np.uint64(22), np.uint64(25), np.uint64(61), np.uint64(17), np.uint64(27), np.uint64(3), np.uint64(621), np.uint64(648), np.uint64(134), np.uint64(46), np.uint64(52), np.uint64(34), np.uint64(1), np.uint64(9), np.uint64(31), np.uint64(1), np.uint64(6), np.uint64(3), np.uint64(63), np.uint64(3), np.uint64(6), np.uint64(1), np.uint64(1), np.uint64(3)]\n"
     ]
    }
   ],
   "source": [
    "print(console_degrees)"
   ]
  },
  {
   "cell_type": "code",
   "execution_count": 18,
   "id": "4ab17078-5ee8-4831-bda7-22a11a24230b",
   "metadata": {
    "execution": {
     "iopub.execute_input": "2025-05-19T14:39:06.386415Z",
     "iopub.status.busy": "2025-05-19T14:39:06.385727Z",
     "iopub.status.idle": "2025-05-19T14:39:06.391271Z",
     "shell.execute_reply": "2025-05-19T14:39:06.390015Z",
     "shell.execute_reply.started": "2025-05-19T14:39:06.386390Z"
    }
   },
   "outputs": [
    {
     "name": "stdout",
     "output_type": "stream",
     "text": [
      "[np.uint64(1905), np.uint64(2878), np.uint64(3565), np.uint64(1735), np.uint64(1963), np.uint64(1807), np.uint64(1676), np.uint64(2707), np.uint64(3288), np.uint64(501), np.uint64(1659), np.uint64(1106), np.uint64(982), np.uint64(2004), np.uint64(804), np.uint64(1105), np.uint64(655), np.uint64(393), np.uint64(739), np.uint64(1211), np.uint64(16), np.uint64(663), np.uint64(2337), np.uint64(1192), np.uint64(1599), np.uint64(554), np.uint64(199), np.uint64(661), np.uint64(174), np.uint64(465), np.uint64(218), np.uint64(459), np.uint64(2120), np.uint64(305), np.uint64(332), np.uint64(673), np.uint64(20), np.uint64(67), np.uint64(464), np.uint64(1138), np.uint64(155), np.uint64(73), np.uint64(1051), np.uint64(753), np.uint64(89), np.uint64(370), np.uint64(336), np.uint64(19), np.uint64(20), np.uint64(30), np.uint64(59), np.uint64(76), np.uint64(72), np.uint64(70), np.uint64(17), np.uint64(55), np.uint64(22), np.uint64(25), np.uint64(61), np.uint64(17), np.uint64(27), np.uint64(3), np.uint64(621), np.uint64(648), np.uint64(134), np.uint64(46), np.uint64(52), np.uint64(34), np.uint64(1), np.uint64(9), np.uint64(31), np.uint64(1), np.uint64(6), np.uint64(3), np.uint64(63), np.uint64(3), np.uint64(6), np.uint64(1), np.uint64(1), np.uint64(3)]\n"
     ]
    }
   ],
   "source": [
    "print(console_degrees_sem_pc)"
   ]
  },
  {
   "cell_type": "code",
   "execution_count": 27,
   "id": "d98f9f76-0704-470c-8e17-fc6735c1d668",
   "metadata": {
    "execution": {
     "iopub.execute_input": "2025-05-19T14:57:53.477330Z",
     "iopub.status.busy": "2025-05-19T14:57:53.474605Z",
     "iopub.status.idle": "2025-05-19T14:57:53.913548Z",
     "shell.execute_reply": "2025-05-19T14:57:53.911620Z",
     "shell.execute_reply.started": "2025-05-19T14:57:53.476983Z"
    }
   },
   "outputs": [],
   "source": [
    "index_pc = console_names.index(\"PC\")\n",
    "consoles_sem_pc = [v for i, v in enumerate(consoles) if i != index_pc]\n",
    "console_names_sem_pc = [g.vp[\"id\"][v] for v in consoles_sem_pc]\n",
    "\n",
    "console_degrees = [g.get_total_degrees([v])[0] for v in consoles_sem_pc]\n",
    "console_betweenness = [g.vp['betweenness'][v] for v in consoles_sem_pc]\n",
    "\n",
    "console_degrees = [g.get_total_degrees([v])[0] for v in consoles_sem_pc]\n",
    "console_betweenness = [g.vp['betweenness'][v] for v in consoles_sem_pc]"
   ]
  },
  {
   "cell_type": "code",
   "execution_count": 28,
   "id": "0d879151-b2ad-48ba-9f17-a81aaa6e57c8",
   "metadata": {
    "execution": {
     "iopub.execute_input": "2025-05-19T14:58:23.618779Z",
     "iopub.status.busy": "2025-05-19T14:58:23.618010Z",
     "iopub.status.idle": "2025-05-19T14:58:25.097121Z",
     "shell.execute_reply": "2025-05-19T14:58:25.095769Z",
     "shell.execute_reply.started": "2025-05-19T14:58:23.618756Z"
    }
   },
   "outputs": [],
   "source": [
    "df_degree = pd.DataFrame({\n",
    "    \"console\": console_names_sem_pc,\n",
    "    \"degree\": console_degrees_sem_pc\n",
    "})\n",
    "\n",
    "df_vendas = pd.read_csv(\"games-sales.csv\")\n",
    "\n",
    "df_sales = df_vendas.groupby(\"console\", as_index=False)[\"total_sales\"].sum()\n",
    "\n",
    "df_merge = pd.merge(df_degree, df_sales, on=\"console\")"
   ]
  },
  {
   "cell_type": "code",
   "execution_count": 29,
   "id": "5bd2d3d7-5dab-4203-8fa3-52a0ec14590d",
   "metadata": {
    "execution": {
     "iopub.execute_input": "2025-05-19T14:58:28.044276Z",
     "iopub.status.busy": "2025-05-19T14:58:28.043577Z",
     "iopub.status.idle": "2025-05-19T14:58:29.317074Z",
     "shell.execute_reply": "2025-05-19T14:58:29.315953Z",
     "shell.execute_reply.started": "2025-05-19T14:58:28.044256Z"
    }
   },
   "outputs": [
    {
     "name": "stdout",
     "output_type": "stream",
     "text": [
      "                            OLS Regression Results                            \n",
      "==============================================================================\n",
      "Dep. Variable:            total_sales   R-squared:                       0.552\n",
      "Model:                            OLS   Adj. R-squared:                  0.547\n",
      "Method:                 Least Squares   F-statistic:                     96.27\n",
      "Date:                Mon, 19 May 2025   Prob (F-statistic):           2.90e-15\n",
      "Time:                        14:58:28   Log-Likelihood:                -506.26\n",
      "No. Observations:                  80   AIC:                             1017.\n",
      "Df Residuals:                      78   BIC:                             1021.\n",
      "Df Model:                           1                                         \n",
      "Covariance Type:            nonrobust                                         \n",
      "==============================================================================\n",
      "                 coef    std err          t      P>|t|      [0.025      0.975]\n",
      "------------------------------------------------------------------------------\n",
      "const        -34.1736     19.289     -1.772      0.080     -72.576       4.228\n",
      "degree         0.1784      0.018      9.812      0.000       0.142       0.215\n",
      "==============================================================================\n",
      "Omnibus:                       42.247   Durbin-Watson:                   1.270\n",
      "Prob(Omnibus):                  0.000   Jarque-Bera (JB):              203.499\n",
      "Skew:                           1.472   Prob(JB):                     6.47e-45\n",
      "Kurtosis:                      10.238   Cond. No.                     1.33e+03\n",
      "==============================================================================\n",
      "\n",
      "Notes:\n",
      "[1] Standard Errors assume that the covariance matrix of the errors is correctly specified.\n",
      "[2] The condition number is large, 1.33e+03. This might indicate that there are\n",
      "strong multicollinearity or other numerical problems.\n"
     ]
    },
    {
     "data": {
      "image/png": "[encoded data removed]",
      "text/plain": [
       "<Figure size 640x480 with 1 Axes>"
      ]
     },
     "metadata": {},
     "output_type": "display_data"
    }
   ],
   "source": [
    "# Regressão linear\n",
    "\n",
    "X = sm.add_constant(df_merge[\"degree\"])\n",
    "y = df_merge[\"total_sales\"]\n",
    "modelo = sm.OLS(y, X).fit()\n",
    "print(modelo.summary())\n",
    "\n",
    "# Gráfico de resíduos\n",
    "plt.scatter(modelo.fittedvalues, modelo.resid)\n",
    "plt.axhline(0, color='red', linestyle='--')\n",
    "plt.xlabel(\"Valores Ajustados\")\n",
    "plt.ylabel(\"Resíduos\")\n",
    "plt.title(\"Gráfico de Resíduos\")\n",
    "plt.show()"
   ]
  },
  {
   "cell_type": "code",
   "execution_count": null,
   "id": "0c8c5687-1dbe-4f83-b07c-0903e6e198be",
   "metadata": {},
   "outputs": [],
   "source": []
  }
 ],
 "metadata": {
  "kernelspec": {
   "display_name": "Python 3 (ipykernel)",
   "language": "python",
   "name": "python3"
  },
  "language_info": {
   "codemirror_mode": {
    "name": "ipython",
    "version": 3
   },
   "file_extension": ".py",
   "mimetype": "text/x-python",
   "name": "python",
   "nbconvert_exporter": "python",
   "pygments_lexer": "ipython3",
   "version": "3.13.1"
  }
 },
 "nbformat": 4,
 "nbformat_minor": 5
}
