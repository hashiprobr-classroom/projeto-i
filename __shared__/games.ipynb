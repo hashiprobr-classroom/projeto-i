{
 "cells": [
  {
   "cell_type": "code",
   "execution_count": 1,
   "id": "c54bb136-45e3-4ad1-a6ef-18853348ab55",
   "metadata": {
    "execution": {
     "iopub.execute_input": "2025-03-19T16:40:52.196429Z",
     "iopub.status.busy": "2025-03-19T16:40:52.196251Z",
     "iopub.status.idle": "2025-03-19T16:40:53.882440Z",
     "shell.execute_reply": "2025-03-19T16:40:53.881933Z",
     "shell.execute_reply.started": "2025-03-19T16:40:52.196414Z"
    }
   },
   "outputs": [],
   "source": [
    "import graph_tool_extras as gte\n",
    "import pandas as pd\n",
    "import csv"
   ]
  },
  {
   "cell_type": "code",
   "execution_count": 2,
   "id": "d25a273b-4a96-439c-ac07-df06ec02b7af",
   "metadata": {
    "execution": {
     "iopub.execute_input": "2025-03-19T16:40:53.883248Z",
     "iopub.status.busy": "2025-03-19T16:40:53.883003Z",
     "iopub.status.idle": "2025-03-19T16:40:53.885606Z",
     "shell.execute_reply": "2025-03-19T16:40:53.885169Z",
     "shell.execute_reply.started": "2025-03-19T16:40:53.883234Z"
    }
   },
   "outputs": [],
   "source": [
    "PATH = 'games-sales.csv'"
   ]
  },
  {
   "cell_type": "code",
   "execution_count": 3,
   "id": "b69498e8-0d14-40dd-ad0f-d28188863826",
   "metadata": {
    "execution": {
     "iopub.execute_input": "2025-03-19T16:40:53.886174Z",
     "iopub.status.busy": "2025-03-19T16:40:53.886041Z",
     "iopub.status.idle": "2025-03-19T16:40:54.111668Z",
     "shell.execute_reply": "2025-03-19T16:40:54.111090Z",
     "shell.execute_reply.started": "2025-03-19T16:40:53.886162Z"
    },
    "scrolled": true
   },
   "outputs": [
    {
     "data": {
      "text/html": [
       "<div>\n",
       "<style scoped>\n",
       "    .dataframe tbody tr th:only-of-type {\n",
       "        vertical-align: middle;\n",
       "    }\n",
       "\n",
       "    .dataframe tbody tr th {\n",
       "        vertical-align: top;\n",
       "    }\n",
       "\n",
       "    .dataframe thead th {\n",
       "        text-align: right;\n",
       "    }\n",
       "</style>\n",
       "<table border=\"1\" class=\"dataframe\">\n",
       "  <thead>\n",
       "    <tr style=\"text-align: right;\">\n",
       "      <th></th>\n",
       "      <th>img</th>\n",
       "      <th>title</th>\n",
       "      <th>console</th>\n",
       "      <th>genre</th>\n",
       "      <th>publisher</th>\n",
       "      <th>developer</th>\n",
       "      <th>critic_score</th>\n",
       "      <th>total_sales</th>\n",
       "      <th>na_sales</th>\n",
       "      <th>jp_sales</th>\n",
       "      <th>pal_sales</th>\n",
       "      <th>other_sales</th>\n",
       "      <th>release_date</th>\n",
       "      <th>last_update</th>\n",
       "    </tr>\n",
       "  </thead>\n",
       "  <tbody>\n",
       "    <tr>\n",
       "      <th>0</th>\n",
       "      <td>/games/boxart/full_6510540AmericaFrontccc.jpg</td>\n",
       "      <td>Grand Theft Auto V</td>\n",
       "      <td>PS3</td>\n",
       "      <td>Action</td>\n",
       "      <td>Rockstar Games</td>\n",
       "      <td>Rockstar North</td>\n",
       "      <td>9.4</td>\n",
       "      <td>20.32</td>\n",
       "      <td>6.37</td>\n",
       "      <td>0.99</td>\n",
       "      <td>9.85</td>\n",
       "      <td>3.12</td>\n",
       "      <td>2013-09-17</td>\n",
       "      <td>NaN</td>\n",
       "    </tr>\n",
       "    <tr>\n",
       "      <th>1</th>\n",
       "      <td>/games/boxart/full_5563178AmericaFrontccc.jpg</td>\n",
       "      <td>Grand Theft Auto V</td>\n",
       "      <td>PS4</td>\n",
       "      <td>Action</td>\n",
       "      <td>Rockstar Games</td>\n",
       "      <td>Rockstar North</td>\n",
       "      <td>9.7</td>\n",
       "      <td>19.39</td>\n",
       "      <td>6.06</td>\n",
       "      <td>0.60</td>\n",
       "      <td>9.71</td>\n",
       "      <td>3.02</td>\n",
       "      <td>2014-11-18</td>\n",
       "      <td>2018-01-03</td>\n",
       "    </tr>\n",
       "    <tr>\n",
       "      <th>2</th>\n",
       "      <td>/games/boxart/827563ccc.jpg</td>\n",
       "      <td>Grand Theft Auto: Vice City</td>\n",
       "      <td>PS2</td>\n",
       "      <td>Action</td>\n",
       "      <td>Rockstar Games</td>\n",
       "      <td>Rockstar North</td>\n",
       "      <td>9.6</td>\n",
       "      <td>16.15</td>\n",
       "      <td>8.41</td>\n",
       "      <td>0.47</td>\n",
       "      <td>5.49</td>\n",
       "      <td>1.78</td>\n",
       "      <td>2002-10-28</td>\n",
       "      <td>NaN</td>\n",
       "    </tr>\n",
       "  </tbody>\n",
       "</table>\n",
       "</div>"
      ],
      "text/plain": [
       "                                             img                        title  \\\n",
       "0  /games/boxart/full_6510540AmericaFrontccc.jpg           Grand Theft Auto V   \n",
       "1  /games/boxart/full_5563178AmericaFrontccc.jpg           Grand Theft Auto V   \n",
       "2                    /games/boxart/827563ccc.jpg  Grand Theft Auto: Vice City   \n",
       "\n",
       "  console   genre       publisher       developer  critic_score  total_sales  \\\n",
       "0     PS3  Action  Rockstar Games  Rockstar North           9.4        20.32   \n",
       "1     PS4  Action  Rockstar Games  Rockstar North           9.7        19.39   \n",
       "2     PS2  Action  Rockstar Games  Rockstar North           9.6        16.15   \n",
       "\n",
       "   na_sales  jp_sales  pal_sales  other_sales release_date last_update  \n",
       "0      6.37      0.99       9.85         3.12   2013-09-17         NaN  \n",
       "1      6.06      0.60       9.71         3.02   2014-11-18  2018-01-03  \n",
       "2      8.41      0.47       5.49         1.78   2002-10-28         NaN  "
      ]
     },
     "execution_count": 3,
     "metadata": {},
     "output_type": "execute_result"
    }
   ],
   "source": [
    "data = pd.read_csv(PATH)\n",
    "data.head(3)"
   ]
  },
  {
   "cell_type": "code",
   "execution_count": null,
   "id": "7a44438c-8778-4779-9b82-570824eb68e8",
   "metadata": {
    "execution": {
     "iopub.execute_input": "2025-03-19T16:40:54.113079Z",
     "iopub.status.busy": "2025-03-19T16:40:54.112908Z",
     "iopub.status.idle": "2025-03-19T16:40:55.623499Z",
     "shell.execute_reply": "2025-03-19T16:40:55.623014Z",
     "shell.execute_reply.started": "2025-03-19T16:40:54.113064Z"
    }
   },
   "outputs": [],
   "source": [
    "g = gte.Graph(directed=False)\n",
    "\n",
    "g.add_vp('Tipo')\n",
    "\n",
    "def get_or_add_vertex(g, id):\n",
    "    u = g.vertex_by_id(id)\n",
    "    if u is None:\n",
    "        u = g.add_vertex_by_id(id)\n",
    "\n",
    "    return u\n",
    "\n",
    "with open(PATH) as file:\n",
    "    reader = csv.reader(file)\n",
    "\n",
    "    # Ignora a primeira linha, pois ela é o cabeçalho.\n",
    "    next(reader)\n",
    "\n",
    "    # Lê o arquivo linha por linha, sem carregá-lo inteiro na memória.\n",
    "    for line in reader:\n",
    "\n",
    "        game = line[1]\n",
    "        u = get_or_add_vertex(g, game)\n",
    "        u['Tipo'] = 'Game'\n",
    "\n",
    "        console = line[2]\n",
    "        v = get_or_add_vertex(g, console)\n",
    "        v['Tipo'] = 'Console'\n",
    "\n",
    "        e = g.add_edge_by_ids(game, console)"
   ]
  },
  {
   "cell_type": "code",
   "execution_count": 5,
   "id": "2bfb562c-b4e3-44a7-83e9-263a762ebf16",
   "metadata": {
    "execution": {
     "iopub.execute_input": "2025-03-19T16:40:55.624790Z",
     "iopub.status.busy": "2025-03-19T16:40:55.624642Z",
     "iopub.status.idle": "2025-03-19T16:40:55.628089Z",
     "shell.execute_reply": "2025-03-19T16:40:55.627616Z",
     "shell.execute_reply.started": "2025-03-19T16:40:55.624777Z"
    }
   },
   "outputs": [
    {
     "data": {
      "text/plain": [
       "<Graph object, directed, with 39877 vertices and 64016 edges, 2 internal vertex properties, at 0x7f344864ecf0>"
      ]
     },
     "execution_count": 5,
     "metadata": {},
     "output_type": "execute_result"
    }
   ],
   "source": [
    "g"
   ]
  },
  {
   "cell_type": "code",
   "execution_count": 6,
   "id": "a1c8493f-acf3-44a7-89f7-581c07306be7",
   "metadata": {
    "execution": {
     "iopub.execute_input": "2025-03-19T16:40:55.630093Z",
     "iopub.status.busy": "2025-03-19T16:40:55.629727Z",
     "iopub.status.idle": "2025-03-19T16:40:55.820175Z",
     "shell.execute_reply": "2025-03-19T16:40:55.819604Z",
     "shell.execute_reply.started": "2025-03-19T16:40:55.630076Z"
    }
   },
   "outputs": [],
   "source": [
    "from graph_tool import draw"
   ]
  },
  {
   "cell_type": "code",
   "execution_count": 7,
   "id": "935ef17c-6942-4fca-a192-9d0961d028e0",
   "metadata": {
    "execution": {
     "iopub.execute_input": "2025-03-19T16:40:55.821025Z",
     "iopub.status.busy": "2025-03-19T16:40:55.820642Z",
     "iopub.status.idle": "2025-03-19T16:42:54.842582Z",
     "shell.execute_reply": "2025-03-19T16:42:54.841930Z",
     "shell.execute_reply.started": "2025-03-19T16:40:55.821009Z"
    }
   },
   "outputs": [],
   "source": [
    "layout = draw.sfdp_layout(g)"
   ]
  },
  {
   "cell_type": "code",
   "execution_count": 8,
   "id": "f0333c5f-0bf5-41ce-9801-d9f3f1d39375",
   "metadata": {
    "execution": {
     "iopub.execute_input": "2025-03-19T16:42:54.843808Z",
     "iopub.status.busy": "2025-03-19T16:42:54.843412Z",
     "iopub.status.idle": "2025-03-19T16:43:01.067480Z",
     "shell.execute_reply": "2025-03-19T16:43:01.066796Z",
     "shell.execute_reply.started": "2025-03-19T16:42:54.843787Z"
    }
   },
   "outputs": [],
   "source": [
    "gte.move(g, layout)"
   ]
  },
  {
   "cell_type": "code",
   "execution_count": 9,
   "id": "77e35afa-5490-411c-8f35-a78024eadfea",
   "metadata": {
    "execution": {
     "iopub.execute_input": "2025-03-19T16:43:01.068913Z",
     "iopub.status.busy": "2025-03-19T16:43:01.068628Z",
     "iopub.status.idle": "2025-03-19T16:43:04.124084Z",
     "shell.execute_reply": "2025-03-19T16:43:04.123484Z",
     "shell.execute_reply.started": "2025-03-19T16:43:01.068897Z"
    }
   },
   "outputs": [],
   "source": [
    "gte.save(g, 'games.net.gz')"
   ]
  },
  {
   "cell_type": "code",
   "execution_count": 10,
   "id": "b84846a9-6b5e-4e07-8d47-4ae0034b87b2",
   "metadata": {
    "execution": {
     "iopub.execute_input": "2025-03-19T16:43:04.125038Z",
     "iopub.status.busy": "2025-03-19T16:43:04.124645Z",
     "iopub.status.idle": "2025-03-19T16:43:04.127945Z",
     "shell.execute_reply": "2025-03-19T16:43:04.127237Z",
     "shell.execute_reply.started": "2025-03-19T16:43:04.125023Z"
    }
   },
   "outputs": [
    {
     "name": "stdout",
     "output_type": "stream",
     "text": [
      "id\n",
      "Tipo\n"
     ]
    }
   ],
   "source": [
    "for key in g.peek_vp():\n",
    "    print(key)"
   ]
  },
  {
   "cell_type": "code",
   "execution_count": 14,
   "id": "80da140e-fd02-4036-af39-fa521b735595",
   "metadata": {
    "execution": {
     "iopub.execute_input": "2025-03-19T16:43:31.767098Z",
     "iopub.status.busy": "2025-03-19T16:43:31.766497Z",
     "iopub.status.idle": "2025-03-19T16:43:31.771700Z",
     "shell.execute_reply": "2025-03-19T16:43:31.771034Z",
     "shell.execute_reply.started": "2025-03-19T16:43:31.767078Z"
    }
   },
   "outputs": [
    {
     "data": {
      "text/html": [
       "\n",
       "        <div id=\"He44JVrJ4R5BSx92sQrnye\"></div>\n",
       "        <script>netpixi.render('He44JVrJ4R5BSx92sQrnye', '/static/__shared__/games.net.gz', 1.7777777777777777, true, true, false, true);</script>\n",
       "    "
      ],
      "text/plain": [
       "<IPython.core.display.HTML object>"
      ]
     },
     "metadata": {},
     "output_type": "display_data"
    }
   ],
   "source": [
    "import netpixi\n",
    "r = netpixi.render('games.net.gz', infinite=True);"
   ]
  },
  {
   "cell_type": "code",
   "execution_count": 12,
   "id": "95fa0e20-9c81-4540-88ce-fa9ade57574f",
   "metadata": {
    "execution": {
     "iopub.execute_input": "2025-03-19T16:43:04.478347Z",
     "iopub.status.busy": "2025-03-19T16:43:04.477949Z",
     "iopub.status.idle": "2025-03-19T16:43:04.482926Z",
     "shell.execute_reply": "2025-03-19T16:43:04.482221Z",
     "shell.execute_reply.started": "2025-03-19T16:43:04.478331Z"
    }
   },
   "outputs": [
    {
     "data": {
      "text/html": [
       "\n",
       "        <div id=\"5uiU83aM4xnVfbpNnQz7CS\"></div>\n",
       "        <script>netpixi.call('5uiU83aM4xnVfbpNnQz7CS', 'DzJArcu9fdticW9C8Vwoc5', 'changeGraph', 'eyJ0eXBlIjogInNldHRpbmdzIiwgInByb3BzIjogeyJ2ZXJ0ZXgiOiB7InNpemUiOiAyLCAiYndpZHRoIjogMX19fQo=');</script>\n",
       "    "
      ],
      "text/plain": [
       "<IPython.core.display.HTML object>"
      ]
     },
     "metadata": {},
     "output_type": "display_data"
    }
   ],
   "source": [
    "r.vertex_default(size=2, bwidth=1)"
   ]
  },
  {
   "cell_type": "code",
   "execution_count": 19,
   "id": "455bcee5-51eb-499f-81a6-383e41034bfb",
   "metadata": {
    "execution": {
     "iopub.execute_input": "2025-03-19T16:45:16.317605Z",
     "iopub.status.busy": "2025-03-19T16:45:16.317375Z",
     "iopub.status.idle": "2025-03-19T16:45:16.322792Z",
     "shell.execute_reply": "2025-03-19T16:45:16.322115Z",
     "shell.execute_reply.started": "2025-03-19T16:45:16.317589Z"
    }
   },
   "outputs": [
    {
     "data": {
      "text/html": [
       "\n",
       "        <div id=\"SBezJbrDLnphVTeDSTuhL8\"></div>\n",
       "        <script>netpixi.call('SBezJbrDLnphVTeDSTuhL8', 'He44JVrJ4R5BSx92sQrnye', 'setGraph', 'eyJ0eXBlIjogInZlcnRleCIsICJwcm9wcyI6IHsic3JjIjogIlRpcG8iLCAiZHN0IjogIl9rZXkifX0K');</script>\n",
       "    "
      ],
      "text/plain": [
       "<IPython.core.display.HTML object>"
      ]
     },
     "metadata": {},
     "output_type": "display_data"
    }
   ],
   "source": [
    "r.vertex_set_key('Tipo')\n"
   ]
  },
  {
   "cell_type": "code",
   "execution_count": null,
   "id": "fdbf9278-c15c-4505-b073-e30864f76d2f",
   "metadata": {},
   "outputs": [],
   "source": []
  }
 ],
 "metadata": {
  "kernelspec": {
   "display_name": "Python 3 (ipykernel)",
   "language": "python",
   "name": "python3"
  },
  "language_info": {
   "codemirror_mode": {
    "name": "ipython",
    "version": 3
   },
   "file_extension": ".py",
   "mimetype": "text/x-python",
   "name": "python",
   "nbconvert_exporter": "python",
   "pygments_lexer": "ipython3",
   "version": "3.13.1"
  }
 },
 "nbformat": 4,
 "nbformat_minor": 5
}
