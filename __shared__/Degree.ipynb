{
 "cells": [
  {
   "cell_type": "code",
   "execution_count": 2,
   "id": "28a24711-3e08-473b-87a3-40c8e68d22fd",
   "metadata": {
    "execution": {
     "iopub.execute_input": "2025-03-26T01:33:48.571134Z",
     "iopub.status.busy": "2025-03-26T01:33:48.570644Z",
     "iopub.status.idle": "2025-03-26T01:33:50.470366Z",
     "shell.execute_reply": "2025-03-26T01:33:50.469758Z",
     "shell.execute_reply.started": "2025-03-26T01:33:48.571116Z"
    }
   },
   "outputs": [
    {
     "data": {
      "text/html": [
       "\n",
       "    <script src=\"/static/.hidden/netpixi.min.js\"></script>\n"
      ],
      "text/plain": [
       "<IPython.core.display.HTML object>"
      ]
     },
     "metadata": {},
     "output_type": "display_data"
    }
   ],
   "source": [
    "import netpixi\n",
    "import graph_tool_extras as gte"
   ]
  },
  {
   "cell_type": "code",
   "execution_count": 3,
   "id": "951d6531-e61e-4eba-9218-d3dfdb605a29",
   "metadata": {
    "execution": {
     "iopub.execute_input": "2025-03-26T01:33:50.471660Z",
     "iopub.status.busy": "2025-03-26T01:33:50.471032Z",
     "iopub.status.idle": "2025-03-26T01:33:52.101901Z",
     "shell.execute_reply": "2025-03-26T01:33:52.101373Z",
     "shell.execute_reply.started": "2025-03-26T01:33:50.471645Z"
    }
   },
   "outputs": [],
   "source": [
    "g = gte.load('games.net.gz')\n",
    "\n",
    "# Número total de vértices\n",
    "n = g.num_vertices()\n",
    "\n",
    "# Calcula degrees\n",
    "total_deg = g.degree_property_map(\"total\")\n",
    "in_deg = g.degree_property_map(\"in\")\n",
    "out_deg = g.degree_property_map(\"out\")\n",
    "\n",
    "# Cria as centralidades normalizadas\n",
    "from graph_tool import Graph\n",
    "\n",
    "total_central = g.new_vertex_property(\"float\")\n",
    "in_central = g.new_vertex_property(\"float\")\n",
    "out_central = g.new_vertex_property(\"float\")\n",
    "\n",
    "for v in g.vertices():\n",
    "    total_central[v] = total_deg[v] / (n - 1)\n",
    "    in_central[v] = in_deg[v] / (n - 1)\n",
    "    out_central[v] = out_deg[v] / (n - 1)\n",
    "\n",
    "# Adiciona as centralidades ao grafo como propriedades\n",
    "g.add_vp(\"central_total\", total_central)\n",
    "g.add_vp(\"central_in\", in_central)\n",
    "g.add_vp(\"central_out\", out_central)"
   ]
  },
  {
   "cell_type": "code",
   "execution_count": 4,
   "id": "f3d9a5fc-73f3-400b-a1d4-d8981dc3d608",
   "metadata": {
    "execution": {
     "iopub.execute_input": "2025-03-26T01:33:52.103052Z",
     "iopub.status.busy": "2025-03-26T01:33:52.102736Z",
     "iopub.status.idle": "2025-03-26T01:33:55.869519Z",
     "shell.execute_reply": "2025-03-26T01:33:55.868928Z",
     "shell.execute_reply.started": "2025-03-26T01:33:52.103035Z"
    }
   },
   "outputs": [],
   "source": [
    "gte.save(g, 'degree.net.gz')"
   ]
  },
  {
   "cell_type": "code",
   "execution_count": 8,
   "id": "75cd6e01-d381-4a4b-8a35-8ed4eefc9196",
   "metadata": {
    "execution": {
     "iopub.execute_input": "2025-03-26T01:37:55.729384Z",
     "iopub.status.busy": "2025-03-26T01:37:55.728970Z",
     "iopub.status.idle": "2025-03-26T01:37:55.735540Z",
     "shell.execute_reply": "2025-03-26T01:37:55.734876Z",
     "shell.execute_reply.started": "2025-03-26T01:37:55.729367Z"
    }
   },
   "outputs": [
    {
     "data": {
      "text/html": [
       "\n",
       "        <div id=\"eBxx2ZL2yGcq5HTadx635F\"></div>\n",
       "        <script>netpixi.render('eBxx2ZL2yGcq5HTadx635F', '/static/__shared__/degree.net.gz', 1.7777777777777777, true, false, false, true);</script>\n",
       "    "
      ],
      "text/plain": [
       "<IPython.core.display.HTML object>"
      ]
     },
     "metadata": {},
     "output_type": "display_data"
    }
   ],
   "source": [
    "r = netpixi.render('degree.net.gz')"
   ]
  },
  {
   "cell_type": "code",
   "execution_count": 10,
   "id": "0fdce574-e7cc-473f-8ec2-9c735c6227ae",
   "metadata": {
    "execution": {
     "iopub.execute_input": "2025-03-26T01:38:29.341328Z",
     "iopub.status.busy": "2025-03-26T01:38:29.341132Z",
     "iopub.status.idle": "2025-03-26T01:38:29.346006Z",
     "shell.execute_reply": "2025-03-26T01:38:29.345436Z",
     "shell.execute_reply.started": "2025-03-26T01:38:29.341314Z"
    }
   },
   "outputs": [
    {
     "data": {
      "text/html": [
       "\n",
       "        <div id=\"eohBETanREyTXHTJC6VuXq\"></div>\n",
       "        <script>netpixi.call('eohBETanREyTXHTJC6VuXq', 'eBxx2ZL2yGcq5HTadx635F', 'normalizeGraph', 'eyJ0eXBlIjogInZlcnRleCIsICJwcm9wcyI6IHsic3JjIjogImNlbnRyYWxfdG90YWwiLCAibWluIjogMSwgIm1heCI6IDUwMH19Cg==');</script>\n",
       "    "
      ],
      "text/plain": [
       "<IPython.core.display.HTML object>"
      ]
     },
     "metadata": {},
     "output_type": "display_data"
    }
   ],
   "source": [
    "r.vertex_scale('central_total', 1, 500)"
   ]
  },
  {
   "cell_type": "code",
   "execution_count": 13,
   "id": "7d342087-82a7-4cee-a690-4b06784e8525",
   "metadata": {
    "execution": {
     "iopub.execute_input": "2025-03-26T02:54:13.928597Z",
     "iopub.status.busy": "2025-03-26T02:54:13.928030Z",
     "iopub.status.idle": "2025-03-26T02:54:14.121855Z",
     "shell.execute_reply": "2025-03-26T02:54:14.121277Z",
     "shell.execute_reply.started": "2025-03-26T02:54:13.928578Z"
    }
   },
   "outputs": [
    {
     "data": {
      "image/png": "[encoded data removed]",
      "text/plain": [
       "<Figure size 640x480 with 1 Axes>"
      ]
     },
     "metadata": {},
     "output_type": "display_data"
    }
   ],
   "source": [
    "degrees = g.get_total_degrees()\n",
    "degrees.hist();"
   ]
  },
  {
   "cell_type": "code",
   "execution_count": null,
   "id": "7a8027cb-07d6-47a4-9cc8-088fce6cd751",
   "metadata": {},
   "outputs": [],
   "source": []
  }
 ],
 "metadata": {
  "kernelspec": {
   "display_name": "Python 3 (ipykernel)",
   "language": "python",
   "name": "python3"
  },
  "language_info": {
   "codemirror_mode": {
    "name": "ipython",
    "version": 3
   },
   "file_extension": ".py",
   "mimetype": "text/x-python",
   "name": "python",
   "nbconvert_exporter": "python",
   "pygments_lexer": "ipython3",
   "version": "3.13.1"
  }
 },
 "nbformat": 4,
 "nbformat_minor": 5
}
